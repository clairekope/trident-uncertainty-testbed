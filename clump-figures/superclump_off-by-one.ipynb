{
 "cells": [
  {
   "cell_type": "code",
   "execution_count": 1,
   "id": "8e8a50b1-7e12-463b-84ab-e89fd283fe9d",
   "metadata": {},
   "outputs": [],
   "source": [
    "import pickle\n",
    "import yt\n",
    "import numpy as np\n",
    "import matplotlib.pyplot as plt"
   ]
  },
  {
   "cell_type": "code",
   "execution_count": 2,
   "id": "29ef54c6-e84f-4402-86d9-ce93c5ebf60e",
   "metadata": {},
   "outputs": [],
   "source": [
    "ion = \"C_II\"\n",
    "ray = 2 "
   ]
  },
  {
   "cell_type": "code",
   "execution_count": 3,
   "id": "1e11435b-15fa-4c88-b2e3-b513b04fe871",
   "metadata": {},
   "outputs": [],
   "source": [
    "with open(f\"superclump/Match_{ion}_Ray{ray}.pickle\", \"rb\") as f:\n",
    "    match = pickle.load(f)\n",
    "    \n",
    "with open(f\"superclump/MaybeLonely_{ion}_Ray{ray}.pickle\", \"rb\") as f:\n",
    "    lonely = pickle.load(f)\n",
    "    \n",
    "with open(f\"superclump/Short_{ion}_Ray{ray}.pickle\", \"rb\") as f:\n",
    "    short = pickle.load(f)\n",
    "    \n",
    "with open(f\"superclump/Split_{ion}_Ray{ray}.pickle\", \"rb\") as f:\n",
    "    split = pickle.load(f)\n",
    "    \n",
    "sc_arr = np.load(f\"superclump/super_clumps_array_{ion}_ray{ray}.npy\")"
   ]
  },
  {
   "cell_type": "code",
   "execution_count": 4,
   "id": "d3569faf-d82c-4c52-9ac6-cbdeeb08e598",
   "metadata": {},
   "outputs": [
    {
     "data": {
      "text/plain": [
       "{1: [],\n",
       " 2: [],\n",
       " 3: [],\n",
       " 4: [],\n",
       " 5: [],\n",
       " 6: [],\n",
       " 7: [],\n",
       " 8: [],\n",
       " 9: [],\n",
       " 10: [[528, 547]],\n",
       " 11: [[528, 547]],\n",
       " 12: [[528, 547]],\n",
       " 13: [],\n",
       " 14: [],\n",
       " 15: [],\n",
       " 16: [],\n",
       " 17: [],\n",
       " 18: [],\n",
       " 19: [],\n",
       " 20: [],\n",
       " 21: []}"
      ]
     },
     "execution_count": 4,
     "metadata": {},
     "output_type": "execute_result"
    }
   ],
   "source": [
    "match"
   ]
  },
  {
   "cell_type": "markdown",
   "id": "1d7b931f-8346-49dd-b949-1a7902f018bf",
   "metadata": {},
   "source": [
    "There is but one superclump for this ray+ion combo. It is correctly extracted from the Salsa data"
   ]
  },
  {
   "cell_type": "code",
   "execution_count": 5,
   "id": "3be3a102-a0d6-4ea1-8e3e-1803f1314aa7",
   "metadata": {},
   "outputs": [
    {
     "data": {
      "text/plain": [
       "(19, 19.0)"
      ]
     },
     "execution_count": 5,
     "metadata": {},
     "output_type": "execute_result"
    }
   ],
   "source": [
    "547-528, sc_arr.sum()"
   ]
  },
  {
   "cell_type": "code",
   "execution_count": 12,
   "id": "cbaa409b-22ef-4721-8eaf-c8aeefbccaee",
   "metadata": {},
   "outputs": [
    {
     "data": {
      "text/plain": [
       "array([0., 1., 1., 1., 1., 1., 1., 1., 1., 1., 1., 1., 1., 1., 1., 1., 1.,\n",
       "       1., 1., 1., 0.])"
      ]
     },
     "execution_count": 12,
     "metadata": {},
     "output_type": "execute_result"
    }
   ],
   "source": [
    "sc_arr[528: 549]"
   ]
  },
  {
   "cell_type": "code",
   "execution_count": 14,
   "id": "5d635d8c-c755-4c34-80bb-8c1dcd78251f",
   "metadata": {},
   "outputs": [
    {
     "data": {
      "text/plain": [
       "(array([1., 1., 1., 1., 1., 1., 1., 1., 1., 1., 1., 1., 1., 1., 1., 1., 1.,\n",
       "        1., 1., 0., 0.]),\n",
       " 19.0)"
      ]
     },
     "execution_count": 14,
     "metadata": {},
     "output_type": "execute_result"
    }
   ],
   "source": [
    "sc_correct = np.zeros_like(sc_arr)\n",
    "sc_correct[528:547] = 1\n",
    "sc_correct[528:549], sc_correct.sum()"
   ]
  },
  {
   "cell_type": "markdown",
   "id": "022134ae-1a8c-4314-8c95-b010cf621c66",
   "metadata": {},
   "source": [
    "Looks like 1's in the super clump array are shifted by one, spanning 529-548 (exclusive) instead of 528-547 (exclusive, which is SALSA's behavior)"
   ]
  },
  {
   "cell_type": "code",
   "execution_count": 7,
   "id": "94cc38a0-ee9c-406a-9719-a744783c5602",
   "metadata": {},
   "outputs": [
    {
     "data": {
      "text/plain": [
       "549"
      ]
     },
     "execution_count": 7,
     "metadata": {},
     "output_type": "execute_result"
    }
   ],
   "source": [
    "sc_arr.size"
   ]
  },
  {
   "cell_type": "code",
   "execution_count": 8,
   "id": "6582a476-0889-4e74-b528-9ff827f8e25a",
   "metadata": {},
   "outputs": [
    {
     "name": "stderr",
     "output_type": "stream",
     "text": [
      "yt : [INFO     ] 2022-10-04 13:22:41,171 Parameters: current_time              = 154.80103271343 code_time\n",
      "yt : [INFO     ] 2022-10-04 13:22:41,172 Parameters: domain_dimensions         = [1 1 1]\n",
      "yt : [INFO     ] 2022-10-04 13:22:41,173 Parameters: domain_left_edge          = [0. 0. 0.] code_length\n",
      "yt : [INFO     ] 2022-10-04 13:22:41,175 Parameters: domain_right_edge         = [1. 1. 1.] code_length\n",
      "yt : [INFO     ] 2022-10-04 13:22:41,176 Parameters: cosmological_simulation   = 1\n",
      "yt : [INFO     ] 2022-10-04 13:22:41,177 Parameters: current_redshift          = 1.9999996880027\n",
      "yt : [INFO     ] 2022-10-04 13:22:41,178 Parameters: omega_lambda              = 0.715\n",
      "yt : [INFO     ] 2022-10-04 13:22:41,179 Parameters: omega_matter              = 0.285\n",
      "yt : [INFO     ] 2022-10-04 13:22:41,180 Parameters: omega_radiation           = 0.0\n",
      "yt : [INFO     ] 2022-10-04 13:22:41,181 Parameters: hubble_constant           = 0.695\n",
      "yt : [INFO     ] 2022-10-04 13:22:41,320 Allocating for 9.490e+02 particles\n"
     ]
    },
    {
     "data": {
      "text/plain": [
       "949"
      ]
     },
     "execution_count": 8,
     "metadata": {},
     "output_type": "execute_result"
    }
   ],
   "source": [
    "ds = yt.load(f\"rays/ray{ray}.h5\")\n",
    "\n",
    "ds.r['number_density'].size"
   ]
  },
  {
   "cell_type": "markdown",
   "id": "fa3d2d26-ae7e-430a-a7b3-0bf307f32ee3",
   "metadata": {},
   "source": [
    "Superclump array size is chosen based on max end index of Salsa data rather than ray length, which is totally fine."
   ]
  },
  {
   "cell_type": "code",
   "execution_count": null,
   "id": "545e479f-5d80-48df-8e54-4ee8cf5d3876",
   "metadata": {},
   "outputs": [],
   "source": []
  }
 ],
 "metadata": {
  "kernelspec": {
   "display_name": "Python 3 (ipykernel)",
   "language": "python",
   "name": "python3"
  },
  "language_info": {
   "codemirror_mode": {
    "name": "ipython",
    "version": 3
   },
   "file_extension": ".py",
   "mimetype": "text/x-python",
   "name": "python",
   "nbconvert_exporter": "python",
   "pygments_lexer": "ipython3",
   "version": "3.8.13"
  }
 },
 "nbformat": 4,
 "nbformat_minor": 5
}
