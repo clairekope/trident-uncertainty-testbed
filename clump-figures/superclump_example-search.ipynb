{
 "cells": [
  {
   "cell_type": "code",
   "execution_count": 1,
   "id": "8e8a50b1-7e12-463b-84ab-e89fd283fe9d",
   "metadata": {},
   "outputs": [
    {
     "name": "stderr",
     "output_type": "stream",
     "text": [
      "/home/claire/miniconda3/envs/salsa/lib/python3.7/_collections_abc.py:666: MatplotlibDeprecationWarning: The global colormaps dictionary is no longer considered public API.\n",
      "  self[key]\n"
     ]
    }
   ],
   "source": [
    "import yt\n",
    "import pickle\n",
    "import trident\n",
    "import numpy as np\n",
    "import pandas as pd\n",
    "import matplotlib.pyplot as plt"
   ]
  },
  {
   "cell_type": "code",
   "execution_count": 2,
   "id": "29ef54c6-e84f-4402-86d9-ce93c5ebf60e",
   "metadata": {},
   "outputs": [],
   "source": [
    "ion = \"N_IV\"\n",
    "ray = 1"
   ]
  },
  {
   "cell_type": "markdown",
   "id": "5a494e6e-caed-4752-909f-cbd228266c2b",
   "metadata": {
    "tags": []
   },
   "source": [
    "# Catalogue super clump comparisons to show off"
   ]
  },
  {
   "cell_type": "code",
   "execution_count": 3,
   "id": "1e11435b-15fa-4c88-b2e3-b513b04fe871",
   "metadata": {},
   "outputs": [],
   "source": [
    "with open(f\"superclump/Match_{ion}_Ray{ray}.pickle\", \"rb\") as f:\n",
    "    match = pickle.load(f)\n",
    "    \n",
    "with open(f\"superclump/MaybeLonely_{ion}_Ray{ray}.pickle\", \"rb\") as f:\n",
    "    lonely = pickle.load(f)\n",
    "    \n",
    "with open(f\"superclump/Short_{ion}_Ray{ray}.pickle\", \"rb\") as f:\n",
    "    short = pickle.load(f)\n",
    "    \n",
    "with open(f\"superclump/Split_{ion}_Ray{ray}.pickle\", \"rb\") as f:\n",
    "    split = pickle.load(f)\n",
    "    \n",
    "sc_arr = np.load(f\"superclump/super_clumps_array_{ion}_ray{ray}.npy\")"
   ]
  },
  {
   "cell_type": "code",
   "execution_count": 4,
   "id": "d3569faf-d82c-4c52-9ac6-cbdeeb08e598",
   "metadata": {},
   "outputs": [
    {
     "name": "stdout",
     "output_type": "stream",
     "text": [
      "[523, 587]\n"
     ]
    }
   ],
   "source": [
    "match_pat = 12\n",
    "match_ivl = match[match_pat][3]\n",
    "print(match_ivl)"
   ]
  },
  {
   "cell_type": "markdown",
   "id": "9a390de5-a994-444d-9c30-0010ce2e7b78",
   "metadata": {},
   "source": [
    "These should be \"true\" splits, where velocities agree."
   ]
  },
  {
   "cell_type": "code",
   "execution_count": 5,
   "id": "5b23a02f-f9d3-4eee-b938-9df1e00e962e",
   "metadata": {},
   "outputs": [
    {
     "name": "stdout",
     "output_type": "stream",
     "text": [
      "[[523, 561], [562, 587]]\n"
     ]
    }
   ],
   "source": [
    "split_pat = 6\n",
    "split_ivls = split[split_pat]\n",
    "print(split_ivls)"
   ]
  },
  {
   "cell_type": "code",
   "execution_count": 6,
   "id": "51a90524-9f19-4684-acd1-950893bc0882",
   "metadata": {},
   "outputs": [
    {
     "name": "stdout",
     "output_type": "stream",
     "text": [
      "[530, 556]\n"
     ]
    }
   ],
   "source": [
    "short_pat = 13\n",
    "short_ivl = short[short_pat][0]\n",
    "print(short_ivl)"
   ]
  },
  {
   "cell_type": "code",
   "execution_count": 8,
   "id": "84089dc4-fa1a-472c-823b-7911940f3f78",
   "metadata": {},
   "outputs": [],
   "source": [
    "model_names = {6 :\"K10 K06 0.5HNe\", # AGB yields from Karaks and massive star yields from Kobayashi06.\t\t\t\t\t\n",
    "                                    # The yields of supernova and hypernova are combined 50% to 50% when hypernova yields are available.\t\n",
    "                                    # Yield set ID K10K06 in Ritter et al. 2017.\n",
    "               12:\"NuGrid FRUITY\", # F.R.U.I.T.Y., Cristallo et al.\n",
    "                                   # AGB yields are from FRUITY and massive star yields (delayed explosion) from NuGrid. Lifetimes for AGB models \n",
    "                                   # were taken from NuGrid. Note NuGrid models are based on alpha-enhanced initial abundances \n",
    "                                   # at Z=0.006 and Z=0.001 while FRUITY models are not. \n",
    "                                   # Note: Adjust the yield mass range to imf_yields_range=[1.3,30].\n",
    "               13:\"NuGrid K06\",\n",
    "               14:\"NuGrid K10\"} # AGB yields from Karakas10 and massive star yields (delayed explosion) from NuGrid.\n",
    "                                # Lifetimes were not available for 2Msun at Z=0.004,0.008 and were supplied from 1.9Msun cases."
   ]
  },
  {
   "cell_type": "markdown",
   "id": "b234e89b-800f-4f91-b39e-6be692c81e58",
   "metadata": {
    "tags": []
   },
   "source": [
    "# Load associated SALSA data (to check intervals and velocities)"
   ]
  },
  {
   "cell_type": "code",
   "execution_count": 9,
   "id": "97f8553a-2f07-43bf-9c27-3390946ed003",
   "metadata": {},
   "outputs": [
    {
     "data": {
      "text/plain": [
       "delta_v          -12.060519\n",
       "vel_dispersion    12.126801\n",
       "Name: 5, dtype: object"
      ]
     },
     "execution_count": 9,
     "metadata": {},
     "output_type": "execute_result"
    }
   ],
   "source": [
    "match_dat = pd.read_csv(f\"data/data_AbundanceRow{match_pat:02d}_{ion}.txt\", delim_whitespace=True)\n",
    "match_row = match_dat[match_dat[\"lightray_index\"]==ray].iloc[3]\n",
    "assert [match_row[\"interval_start\"], match_row[\"interval_end\"]] == match_ivl\n",
    "match_row[[\"delta_v\",\"vel_dispersion\"]]"
   ]
  },
  {
   "cell_type": "code",
   "execution_count": 10,
   "id": "36956a06-05e8-41a7-86d9-d528f9124c5f",
   "metadata": {},
   "outputs": [
    {
     "data": {
      "text/plain": [
       "(delta_v          -13.369692\n",
       " vel_dispersion    11.350407\n",
       " Name: 2, dtype: object,\n",
       " delta_v           4.923573\n",
       " vel_dispersion    8.541963\n",
       " Name: 3, dtype: object)"
      ]
     },
     "execution_count": 10,
     "metadata": {},
     "output_type": "execute_result"
    }
   ],
   "source": [
    "split_dat = pd.read_csv(f\"data/data_AbundanceRow{split_pat:02d}_{ion}.txt\", delim_whitespace=True)\n",
    "split_row = split_dat[split_dat[\"lightray_index\"]==ray]\n",
    "split_row1 = split_row.iloc[0]\n",
    "split_row2 = split_row.iloc[1]\n",
    "assert [split_row1[\"interval_start\"], split_row1[\"interval_end\"]] == split_ivls[0]\n",
    "assert [split_row2[\"interval_start\"], split_row2[\"interval_end\"]] == split_ivls[1]\n",
    "#split_row1[\"delta_v\"] + 2*split_row1[\"vel_dispersion\"], split_row2[\"delta_v\"] - 2*split_row2[\"vel_dispersion\"]\n",
    "split_row1[[\"delta_v\",\"vel_dispersion\"]],split_row2[[\"delta_v\",\"vel_dispersion\"]]"
   ]
  },
  {
   "cell_type": "code",
   "execution_count": 11,
   "id": "ee97d305-e609-463c-a4c5-dec20450cce1",
   "metadata": {},
   "outputs": [
    {
     "data": {
      "text/plain": [
       "delta_v          -11.135904\n",
       "vel_dispersion     8.307105\n",
       "Name: 2, dtype: object"
      ]
     },
     "execution_count": 11,
     "metadata": {},
     "output_type": "execute_result"
    }
   ],
   "source": [
    "short_dat = pd.read_csv(f\"data/data_AbundanceRow{short_pat:02d}_{ion}.txt\", delim_whitespace=True)\n",
    "short_row = short_dat[short_dat[\"lightray_index\"]==ray].iloc[0]\n",
    "assert [short_row[\"interval_start\"], short_row[\"interval_end\"]] == short_ivl\n",
    "short_row[[\"delta_v\",\"vel_dispersion\"]]"
   ]
  },
  {
   "cell_type": "markdown",
   "id": "5cebba0a-f4a6-43d5-aed2-cb6c971c11c8",
   "metadata": {
    "tags": []
   },
   "source": [
    "# Load associated abundance patterns "
   ]
  },
  {
   "cell_type": "markdown",
   "id": "9d87042f-128e-44f1-8f09-e8b029c2c72f",
   "metadata": {},
   "source": [
    "Will load text header. Let it! Abundance rows are counted from 1 (up to 21), but numpy indexes from 0. A dummy1 row 0 let's us index properly."
   ]
  },
  {
   "cell_type": "code",
   "execution_count": 12,
   "id": "c5d8101b-5867-4a1a-8ea0-902cf62eb1ee",
   "metadata": {},
   "outputs": [],
   "source": [
    "abundances = np.genfromtxt(\"/home/claire/trident_uncertainty/mods/abundances/abundances_AGB_massive_yields_halo8508_z2.0.txt\")"
   ]
  },
  {
   "cell_type": "code",
   "execution_count": 13,
   "id": "9c0a39a6-f9ca-4ff5-9883-9486a2b806ad",
   "metadata": {},
   "outputs": [],
   "source": [
    "with open(\"/home/claire/trident_uncertainty/mods/abundances/abundances_AGB_massive_yields_halo8508_z2.0.txt\") as f:\n",
    "    elements = f.readline().strip().split(' ')"
   ]
  },
  {
   "cell_type": "code",
   "execution_count": 14,
   "id": "afdff057-80b3-4e03-a675-6295ba3750bc",
   "metadata": {},
   "outputs": [],
   "source": [
    "match_abun = dict(zip(elements, abundances[match_pat]))\n",
    "split_abun = dict(zip(elements, abundances[split_pat]))\n",
    "short_abun = dict(zip(elements, abundances[short_pat]))"
   ]
  },
  {
   "cell_type": "code",
   "execution_count": 15,
   "id": "8fc53453-8b3e-4924-9c45-cb87c36b2eb9",
   "metadata": {},
   "outputs": [],
   "source": [
    "atom, istate = ion.split('_')\n",
    "field_name = f\"{atom}_p{trident.from_roman(istate)-1}_number_density\""
   ]
  },
  {
   "cell_type": "code",
   "execution_count": 16,
   "id": "38e3daef-ba83-4ddf-abd3-eed85a8e36df",
   "metadata": {},
   "outputs": [
    {
     "name": "stderr",
     "output_type": "stream",
     "text": [
      "yt : [INFO     ] 2022-10-05 16:10:02,876 Parameters: current_time              = 154.80103271343 code_time\n",
      "yt : [INFO     ] 2022-10-05 16:10:02,876 Parameters: domain_dimensions         = [2 2 2]\n",
      "yt : [INFO     ] 2022-10-05 16:10:02,877 Parameters: domain_left_edge          = [0. 0. 0.] code_length\n",
      "yt : [INFO     ] 2022-10-05 16:10:02,879 Parameters: domain_right_edge         = [1. 1. 1.] code_length\n",
      "yt : [INFO     ] 2022-10-05 16:10:02,880 Parameters: cosmological_simulation   = 1\n",
      "yt : [INFO     ] 2022-10-05 16:10:02,880 Parameters: current_redshift          = 1.9999996880027\n",
      "yt : [INFO     ] 2022-10-05 16:10:02,882 Parameters: omega_lambda              = 0.715\n",
      "yt : [INFO     ] 2022-10-05 16:10:02,882 Parameters: omega_matter              = 0.285\n",
      "yt : [ERROR    ] 2022-10-05 16:10:02,882 Missing omega_radiation in parameter file definition!\n",
      "yt : [INFO     ] 2022-10-05 16:10:02,883 Parameters: hubble_constant           = 0.695\n",
      "yt : [INFO     ] 2022-10-05 16:10:02,948 Allocating for 8.950e+02 particles (index particle type 'all')\n",
      "yt : [INFO     ] 2022-10-05 16:10:02,953 Identified 7.130e+02 octs\n"
     ]
    },
    {
     "name": "stdout",
     "output_type": "stream",
     "text": [
      "Buckle up bc we're about to get wRIGGITY WRIGGITY WRECKED SON\n"
     ]
    }
   ],
   "source": [
    "ds = yt.load(f\"rays/ray{ray}.h5\")\n",
    "trident.add_ion_number_density_field(atom, trident.from_roman(istate), ds, abundance_dict=match_abun)\n",
    "match_ndens = ds.r[('gas',field_name)].copy()"
   ]
  },
  {
   "cell_type": "code",
   "execution_count": 17,
   "id": "90e2eb33-04f9-47ab-afd6-fe1f2317bd9c",
   "metadata": {},
   "outputs": [
    {
     "name": "stderr",
     "output_type": "stream",
     "text": [
      "yt : [INFO     ] 2022-10-05 16:10:03,350 Parameters: current_time              = 154.80103271343 code_time\n",
      "yt : [INFO     ] 2022-10-05 16:10:03,351 Parameters: domain_dimensions         = [2 2 2]\n",
      "yt : [INFO     ] 2022-10-05 16:10:03,352 Parameters: domain_left_edge          = [0. 0. 0.] code_length\n",
      "yt : [INFO     ] 2022-10-05 16:10:03,352 Parameters: domain_right_edge         = [1. 1. 1.] code_length\n",
      "yt : [INFO     ] 2022-10-05 16:10:03,353 Parameters: cosmological_simulation   = 1\n",
      "yt : [INFO     ] 2022-10-05 16:10:03,354 Parameters: current_redshift          = 1.9999996880027\n",
      "yt : [INFO     ] 2022-10-05 16:10:03,355 Parameters: omega_lambda              = 0.715\n",
      "yt : [INFO     ] 2022-10-05 16:10:03,355 Parameters: omega_matter              = 0.285\n",
      "yt : [ERROR    ] 2022-10-05 16:10:03,356 Missing omega_radiation in parameter file definition!\n",
      "yt : [INFO     ] 2022-10-05 16:10:03,358 Parameters: hubble_constant           = 0.695\n",
      "yt : [INFO     ] 2022-10-05 16:10:03,421 Allocating for 8.950e+02 particles (index particle type 'all')\n",
      "yt : [INFO     ] 2022-10-05 16:10:03,425 Identified 7.130e+02 octs\n"
     ]
    },
    {
     "name": "stdout",
     "output_type": "stream",
     "text": [
      "Buckle up bc we're about to get wRIGGITY WRIGGITY WRECKED SON\n"
     ]
    }
   ],
   "source": [
    "ds = yt.load(f\"rays/ray{ray}.h5\")\n",
    "trident.add_ion_number_density_field(atom, trident.from_roman(istate), ds, abundance_dict=split_abun)\n",
    "split_ndens = ds.r[('gas',field_name)].copy()"
   ]
  },
  {
   "cell_type": "code",
   "execution_count": 18,
   "id": "27e31f2a-cac2-4cb9-8b0e-0d0ebaf90958",
   "metadata": {},
   "outputs": [
    {
     "name": "stderr",
     "output_type": "stream",
     "text": [
      "yt : [INFO     ] 2022-10-05 16:10:03,741 Parameters: current_time              = 154.80103271343 code_time\n",
      "yt : [INFO     ] 2022-10-05 16:10:03,742 Parameters: domain_dimensions         = [2 2 2]\n",
      "yt : [INFO     ] 2022-10-05 16:10:03,743 Parameters: domain_left_edge          = [0. 0. 0.] code_length\n",
      "yt : [INFO     ] 2022-10-05 16:10:03,743 Parameters: domain_right_edge         = [1. 1. 1.] code_length\n",
      "yt : [INFO     ] 2022-10-05 16:10:03,744 Parameters: cosmological_simulation   = 1\n",
      "yt : [INFO     ] 2022-10-05 16:10:03,744 Parameters: current_redshift          = 1.9999996880027\n",
      "yt : [INFO     ] 2022-10-05 16:10:03,745 Parameters: omega_lambda              = 0.715\n",
      "yt : [INFO     ] 2022-10-05 16:10:03,745 Parameters: omega_matter              = 0.285\n",
      "yt : [ERROR    ] 2022-10-05 16:10:03,746 Missing omega_radiation in parameter file definition!\n",
      "yt : [INFO     ] 2022-10-05 16:10:03,746 Parameters: hubble_constant           = 0.695\n",
      "yt : [INFO     ] 2022-10-05 16:10:03,807 Allocating for 8.950e+02 particles (index particle type 'all')\n",
      "yt : [INFO     ] 2022-10-05 16:10:03,811 Identified 7.130e+02 octs\n"
     ]
    },
    {
     "name": "stdout",
     "output_type": "stream",
     "text": [
      "Buckle up bc we're about to get wRIGGITY WRIGGITY WRECKED SON\n"
     ]
    }
   ],
   "source": [
    "ds = yt.load(f\"rays/ray{ray}.h5\")\n",
    "trident.add_ion_number_density_field(atom, trident.from_roman(istate), ds, abundance_dict=short_abun)\n",
    "short_ndens = ds.r[('gas',field_name)].copy()"
   ]
  },
  {
   "cell_type": "markdown",
   "id": "ea0e684a-4ca2-43cb-9e6f-de7fcb2e5137",
   "metadata": {},
   "source": [
    "# Plot"
   ]
  },
  {
   "cell_type": "code",
   "execution_count": 20,
   "id": "515a687e-0aa6-4931-9975-771cb18cb930",
   "metadata": {},
   "outputs": [
    {
     "data": {
      "image/png": "[encoded data removed]",
      "text/plain": [
       "<Figure size 700x400 with 2 Axes>"
      ]
     },
     "metadata": {},
     "output_type": "display_data"
    }
   ],
   "source": [
    "fig, ax = plt.subplots(nrows=2, ncols=1, figsize=(7,4), sharex=True, gridspec_kw={'height_ratios':(0.3,1)}, squeeze=False)\n",
    "\n",
    "# Demo intervals\n",
    "ax[0,0].hlines(3, *match_ivl, colors='k', lw=5)\n",
    "ax[0,0].hlines(2, *match_ivl, colors='C0', lw=3)\n",
    "ax[0,0].hlines([1,1], [split_ivls[0][0], split_ivls[1][0]], [split_ivls[0][1], split_ivls[1][1]], colors='C2', lw=3)\n",
    "ax[0,0].hlines(0, *short_ivl, colors='C1', lw=3)\n",
    "\n",
    "# Other intervals - \"pat\" signifies abundance pattern, which keys to color\n",
    "ax[0,0].hlines(3, *match[match_pat][4], colors='k', lw=5)\n",
    "ax[0,0].hlines(3, *match[match_pat][5], colors='k', lw=5)\n",
    "ax[0,0].hlines(2, *match[match_pat][4], colors='C0', lw=3)\n",
    "ax[0,0].hlines(2, *match[match_pat][5], colors='C0', lw=3)\n",
    "ax[0,0].hlines(1, *match[split_pat][0], colors='C2', lw=3)\n",
    "ax[0,0].hlines(1, *short[split_pat][0], colors='C2', lw=3)\n",
    "ax[0,0].hlines(0, *short[short_pat][1], colors='C1', lw=3)\n",
    "#ax[0,0].hlines(0, *short[short_pat][2], colors='C1', lw=3)\n",
    "\n",
    "# Label superclumps\n",
    "ax[0,0].text(np.mean(match_ivl), 3.5, \"SC 3\", horizontalalignment=\"center\")\n",
    "ax[0,0].text(np.mean(match[match_pat][4]), 3.5, \"SC 4\", horizontalalignment=\"center\")\n",
    "ax[0,0].text(np.mean(match[match_pat][5]), 3.5, \"SC 5\", horizontalalignment=\"center\")\n",
    "\n",
    "ax[0,0].set_ylim(-0.5, 4.5)\n",
    "#ax[0,0].axis('off')\n",
    "ax[0,0].tick_params(which='both', labelleft=False, left=False, right=False, labelbottom=False)\n",
    "#ax[0,0].set_title(\"Absorber and Superclump Span\")\n",
    "\n",
    "\n",
    "# Demo intervals\n",
    "mx1 = np.arange(*match_ivl)\n",
    "my1 = match_ndens[slice(*match_ivl)]\n",
    "# Extra intervals\n",
    "mx2 = np.arange(*match[match_pat][4])\n",
    "my2 = match_ndens[slice(*match[match_pat][4])]\n",
    "mx3 = np.arange(*match[match_pat][5])\n",
    "my3 = match_ndens[slice(*match[match_pat][5])]\n",
    "\n",
    "ax[1,0].semilogy(match_ndens, color='C0', label=model_names[match_pat])\n",
    "ax[1,0].fill_between(mx1, my1,\n",
    "                     #np.min(my1)*np.ones_like(mx1),\n",
    "                     alpha=0.3)\n",
    "ax[1,0].fill_between(mx2, my2, color='C0', alpha=0.3)\n",
    "ax[1,0].fill_between(mx3, my3, color='C0', alpha=0.3)\n",
    "\n",
    "# Demo intervals\n",
    "spx1 = np.arange(*split_ivls[0])\n",
    "spx2 = np.arange(*split_ivls[1])\n",
    "spy1 = split_ndens[slice(*split_ivls[0])]\n",
    "spy2 = split_ndens[slice(*split_ivls[1])]\n",
    "# Extra intervals\n",
    "spx3 = np.arange(*match[split_pat][0])\n",
    "spy3 = split_ndens[slice(*match[split_pat][0])]\n",
    "spx4 = np.arange(*short[split_pat][0])\n",
    "spy4 = split_ndens[slice(*short[split_pat][0])]\n",
    "\n",
    "ax[1,0].semilogy(split_ndens, color='C2', label=model_names[split_pat])\n",
    "ax[1,0].fill_between(spx1,  spy1,\n",
    "                     #np.min(spy1)*np.ones_like(spx1),\n",
    "                     alpha=0.3,\n",
    "                     color='C2')\n",
    "ax[1,0].fill_between(spx2, spy2,\n",
    "                     #np.min(spy2)*np.ones_like(spx2),\n",
    "                     alpha=0.3,\n",
    "                     color='C2')\n",
    "ax[1,0].fill_between(spx3, spy3, color='C2', alpha=0.3)\n",
    "ax[1,0].fill_between(spx4, spy4, color='C2', alpha=0.3)\n",
    "\n",
    "# Demo intervals\n",
    "shx1 = np.arange(*short_ivl)\n",
    "shy1 = short_ndens[short_ivl[0]:short_ivl[1]]\n",
    "# Extra intervals\n",
    "shx2 = np.arange(*short[short_pat][1])\n",
    "shy2 = short_ndens[slice(*short[short_pat][1])]\n",
    "#shx3 = np.arange(*short[short_pat][2])\n",
    "#shy3 = short_ndens[slice(*short[short_pat][2])]\n",
    "\n",
    "ax[1,0].semilogy(short_ndens, color='C1', label=model_names[short_pat])\n",
    "ax[1,0].fill_between(shx1, shy1,\n",
    "                     #np.min(shy1)*np.ones_like(shx1),\n",
    "                     alpha=0.3,\n",
    "                     color='C1')\n",
    "ax[1,0].fill_between(shx2, shy2, color='C1', alpha=0.3)\n",
    "#ax[1,0].fill_between(shx3, shy3, color='C1', alpha=0.3)\n",
    "\n",
    "ax[1,0].set_xlim(520, 650)\n",
    "ax[1,0].set_ylim(1e-10, 2e-7)\n",
    "ax[1,0].set_xlabel(\"Cell Index\")\n",
    "ax[1,0].set_ylabel(r\"$n_\\mathrm{N\\ IV}$ [cm$^{-3}$]\")\n",
    "ax[1,0].legend(loc='upper center')\n",
    "\n",
    "fig.tight_layout()\n",
    "fig.subplots_adjust(hspace=0)\n",
    "fig.savefig(\"superclump_demo_alt.pdf\")"
   ]
  },
  {
   "cell_type": "code",
   "execution_count": 22,
   "id": "3c6548f3-3776-42a7-ac84-b432f268a11b",
   "metadata": {},
   "outputs": [
    {
     "data": {
      "text/plain": [
       "(5.3947162036155934e-09 cm**(-3), 4.484520295389988e-09 cm**(-3))"
      ]
     },
     "execution_count": 22,
     "metadata": {},
     "output_type": "execute_result"
    }
   ],
   "source": [
    "short_ndens[600:620].max(), short_ndens[620:640].max() "
   ]
  },
  {
   "cell_type": "code",
   "execution_count": null,
   "id": "c04e76ff-9df8-41e8-ab06-851ed38367a8",
   "metadata": {},
   "outputs": [],
   "source": []
  }
 ],
 "metadata": {
  "kernelspec": {
   "display_name": "Python 3 (ipykernel)",
   "language": "python",
   "name": "python3"
  },
  "language_info": {
   "codemirror_mode": {
    "name": "ipython",
    "version": 3
   },
   "file_extension": ".py",
   "mimetype": "text/x-python",
   "name": "python",
   "nbconvert_exporter": "python",
   "pygments_lexer": "ipython3",
   "version": "3.7.12"
  }
 },
 "nbformat": 4,
 "nbformat_minor": 5
}
